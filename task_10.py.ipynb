{
 "cells": [
  {
   "cell_type": "code",
   "execution_count": 1,
   "id": "8845f644",
   "metadata": {},
   "outputs": [
    {
     "name": "stdout",
     "output_type": "stream",
     "text": [
      "Common letters: o,u,s,e\n"
     ]
    }
   ],
   "source": [
    "def common(string_1, string_2):\n",
    "    string_1 = string_1.lower()\n",
    "    string_2 = string_2.lower()\n",
    "    common_letters =\"\"\n",
    "    for i in string_1:\n",
    "        if i in string_2:\n",
    "            common_letters = common_letters + i \n",
    "    letter = \"\"\n",
    "    for i in common_letters:\n",
    "        if i not in letter:\n",
    "            letter = letter + i \n",
    "    print (\"Common letters: \", end=\"\")\n",
    "    print (*letter, sep=\",\")\n",
    "   \n",
    "common(\"house\", \"computers\")\n",
    "     "
   ]
  }
 ],
 "metadata": {
  "interpreter": {
   "hash": "83968b6fdfaf453dd1cb554d07cc1dd60195b2f86fac5c332ece666b9a2e6ee7"
  },
  "kernelspec": {
   "display_name": "Python 3.9.7 64-bit",
   "name": "python3"
  },
  "language_info": {
   "codemirror_mode": {
    "name": "ipython",
    "version": 3
   },
   "file_extension": ".py",
   "mimetype": "text/x-python",
   "name": "python",
   "nbconvert_exporter": "python",
   "pygments_lexer": "ipython3",
   "version": "3.10.1"
  }
 },
 "nbformat": 4,
 "nbformat_minor": 5
}
