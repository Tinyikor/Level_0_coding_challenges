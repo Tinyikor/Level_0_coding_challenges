{
 "cells": [
  {
   "cell_type": "code",
   "execution_count": 1,
   "id": "7c2281d8",
   "metadata": {},
   "outputs": [
    {
     "name": "stdout",
     "output_type": "stream",
     "text": [
      "2 hours, 13 minutes\n"
     ]
    }
   ],
   "source": [
    "def to_hrs_and_minutes(num):\n",
    "   hours = num//60\n",
    "   minutes = num % 60\n",
    "   if hours > 1 and minutes > 1 or hours == 0 and minutes == 0:\n",
    "      print (f\"{hours} hours, {minutes} minutes\")\n",
    "   elif hours == 1 and minutes == 1:\n",
    "      print (f\"{hours} hour, {minutes} minute\")\n",
    "   elif hours > 1 and minutes == 1:\n",
    "      print (f\"{hours} hours, {minutes} minute\")\n",
    "   elif hours == 1 and minutes > 1:\n",
    "      print (f\"{hours} hour, {minutes} minutes\")\n",
    "   elif hours == 0 and minutes > 1:\n",
    "      print (f\"{hours} hours, {minutes} minutes\")\n",
    "   elif hours > 1 and minutes ==  0:\n",
    "      print (f\"{hours} hours, {minutes} minutes\")\n",
    "   else: \n",
    "      print (f\"{hours} hours, {minutes} minute\")\n",
    "\n",
    "\n",
    "to_hrs_and_minutes(133)"
   ]
  }
 ],
 "metadata": {
  "interpreter": {
   "hash": "83968b6fdfaf453dd1cb554d07cc1dd60195b2f86fac5c332ece666b9a2e6ee7"
  },
  "kernelspec": {
   "display_name": "Python 3.9.7 64-bit",
   "name": "python3"
  },
  "language_info": {
   "codemirror_mode": {
    "name": "ipython",
    "version": 3
   },
   "file_extension": ".py",
   "mimetype": "text/x-python",
   "name": "python",
   "nbconvert_exporter": "python",
   "pygments_lexer": "ipython3",
   "version": "3.10.1"
  }
 },
 "nbformat": 4,
 "nbformat_minor": 5
}
