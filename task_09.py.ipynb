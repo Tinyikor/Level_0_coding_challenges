{
 "cells": [
  {
   "cell_type": "code",
   "execution_count": 8,
   "id": "1c38b09a",
   "metadata": {},
   "outputs": [
    {
     "name": "stdout",
     "output_type": "stream",
     "text": [
      "Vowels: u,i\n"
     ]
    }
   ],
   "source": [
    "def UniqueVowels(string): \n",
    "    vowels = (\"aeiou\")\n",
    "    result = \"\"\n",
    "    for letter in string: \n",
    "        letter = letter.lower()\n",
    "        if ( letter in vowels ) and (letter not in result ):\n",
    "            result += letter\n",
    "    print (\"Vowels: \", end=\"\")\n",
    "    print (*result, sep=\",\")\n",
    "\n",
    "\n",
    "UniqueVowels(\"Umuzi\")"
   ]
  }
 ],
 "metadata": {
  "interpreter": {
   "hash": "83968b6fdfaf453dd1cb554d07cc1dd60195b2f86fac5c332ece666b9a2e6ee7"
  },
  "kernelspec": {
   "display_name": "Python 3.9.7 64-bit",
   "name": "python3"
  },
  "language_info": {
   "codemirror_mode": {
    "name": "ipython",
    "version": 3
   },
   "file_extension": ".py",
   "mimetype": "text/x-python",
   "name": "python",
   "nbconvert_exporter": "python",
   "pygments_lexer": "ipython3",
   "version": "3.10.1"
  }
 },
 "nbformat": 4,
 "nbformat_minor": 5
}
