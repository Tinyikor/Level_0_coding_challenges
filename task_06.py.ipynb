{
 "cells": [
  {
   "cell_type": "code",
   "execution_count": 1,
   "id": "348662c6",
   "metadata": {},
   "outputs": [
    {
     "name": "stdout",
     "output_type": "stream",
     "text": [
      "22\n"
     ]
    }
   ],
   "source": [
    "def max_num(*numbers):\n",
    "    max_num = numbers[0]\n",
    "    for a in numbers:\n",
    "        if a >= max_num:\n",
    "            max_num = a\n",
    "    return max_num\n",
    "\n",
    "print(max_num(1, 22, 3,2))\n",
    "\n"
   ]
  }
 ],
 "metadata": {
  "interpreter": {
   "hash": "83968b6fdfaf453dd1cb554d07cc1dd60195b2f86fac5c332ece666b9a2e6ee7"
  },
  "kernelspec": {
   "display_name": "Python 3.9.7 64-bit",
   "name": "python3"
  },
  "language_info": {
   "codemirror_mode": {
    "name": "ipython",
    "version": 3
   },
   "file_extension": ".py",
   "mimetype": "text/x-python",
   "name": "python",
   "nbconvert_exporter": "python",
   "pygments_lexer": "ipython3",
   "version": "3.10.1"
  }
 },
 "nbformat": 4,
 "nbformat_minor": 5
}
