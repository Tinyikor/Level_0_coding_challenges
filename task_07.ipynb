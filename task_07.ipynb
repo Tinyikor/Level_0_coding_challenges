{
 "cells": [
  {
   "cell_type": "code",
   "execution_count": 8,
   "id": "b35eb8b1",
   "metadata": {},
   "outputs": [
    {
     "data": {
      "text/plain": [
       "20.0"
      ]
     },
     "execution_count": 8,
     "metadata": {},
     "output_type": "execute_result"
    }
   ],
   "source": [
    "def celsius_to_fahrenheit(celsius):\n",
    "    return (celsius * 1.8) + 32\n",
    "    fahrenheit = celsius_to_fahrenheit\n",
    "    print(f\"{celsius} celsius = {fahrenheit} fahrenheit\")\n",
    "\n",
    "def fahrenheit_to_celsius(fahrenheit):\n",
    "    return (fahrenheit - 32) * 5 / 9\n",
    "    celsius = fahrenheit_to_celsius\n",
    "    print(f\"{fahrenheit} fahrenheit = {celsius} celsius\")\n",
    "\n",
    "\n",
    "celsius_to_fahrenheit(20)\n",
    "fahrenheit_to_celsius(68)"
   ]
  }
 ],
 "metadata": {
  "interpreter": {
   "hash": "83968b6fdfaf453dd1cb554d07cc1dd60195b2f86fac5c332ece666b9a2e6ee7"
  },
  "kernelspec": {
   "display_name": "Python 3.9.7 64-bit",
   "name": "python3"
  },
  "language_info": {
   "codemirror_mode": {
    "name": "ipython",
    "version": 3
   },
   "file_extension": ".py",
   "mimetype": "text/x-python",
   "name": "python",
   "nbconvert_exporter": "python",
   "pygments_lexer": "ipython3",
   "version": "3.10.1"
  }
 },
 "nbformat": 4,
 "nbformat_minor": 5
}
