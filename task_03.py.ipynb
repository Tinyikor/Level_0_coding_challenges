{
 "cells": [
  {
   "cell_type": "code",
   "execution_count": 13,
   "id": "627e4ba6",
   "metadata": {},
   "outputs": [
    {
     "name": "stdout",
     "output_type": "stream",
     "text": [
      "Hello Tshepo!\n"
     ]
    }
   ],
   "source": [
    "def hello(name):\n",
    "     print ('Hello ' + name +'!')\n",
    "hello ('Tshepo')"
   ]
  }
 ],
 "metadata": {
  "interpreter": {
   "hash": "83968b6fdfaf453dd1cb554d07cc1dd60195b2f86fac5c332ece666b9a2e6ee7"
  },
  "kernelspec": {
   "display_name": "Python 3.9.7 64-bit",
   "name": "python3"
  },
  "language_info": {
   "codemirror_mode": {
    "name": "ipython",
    "version": 3
   },
   "file_extension": ".py",
   "mimetype": "text/x-python",
   "name": "python",
   "nbconvert_exporter": "python",
   "pygments_lexer": "ipython3",
   "version": "3.8.8"
  }
 },
 "nbformat": 4,
 "nbformat_minor": 5
}
