{
 "cells": [
  {
   "cell_type": "code",
   "execution_count": 3,
   "id": "925e60aa",
   "metadata": {},
   "outputs": [
    {
     "data": {
      "text/plain": [
       "6.0"
      ]
     },
     "execution_count": 3,
     "metadata": {},
     "output_type": "execute_result"
    }
   ],
   "source": [
    "def calc_triangle_area(a,b,c):    \n",
    "    s = (a + b + c) / 2    \n",
    "    area = (s*(s-a)*(s-b)*(s-c))**0.5\n",
    "    return area\n",
    "calc_triangle_area(3, 4, 5)\n"
   ]
  }
 ],
 "metadata": {
  "interpreter": {
   "hash": "83968b6fdfaf453dd1cb554d07cc1dd60195b2f86fac5c332ece666b9a2e6ee7"
  },
  "kernelspec": {
   "display_name": "Python 3.9.7 64-bit",
   "name": "python3"
  },
  "language_info": {
   "codemirror_mode": {
    "name": "ipython",
    "version": 3
   },
   "file_extension": ".py",
   "mimetype": "text/x-python",
   "name": "python",
   "nbconvert_exporter": "python",
   "pygments_lexer": "ipython3",
   "version": "3.10.1"
  }
 },
 "nbformat": 4,
 "nbformat_minor": 5
}
